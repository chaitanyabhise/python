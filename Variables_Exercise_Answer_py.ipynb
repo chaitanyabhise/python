{
 "cells": [
  {
   "cell_type": "code",
   "execution_count": 1,
   "id": "93b34c29",
   "metadata": {},
   "outputs": [
    {
     "ename": "SyntaxError",
     "evalue": "Missing parentheses in call to 'print'. Did you mean print(...)? (13199579.py, line 1)",
     "output_type": "error",
     "traceback": [
      "\u001b[1;36m  Cell \u001b[1;32mIn[1], line 1\u001b[1;36m\u001b[0m\n\u001b[1;33m    print\"hi\"\u001b[0m\n\u001b[1;37m    ^\u001b[0m\n\u001b[1;31mSyntaxError\u001b[0m\u001b[1;31m:\u001b[0m Missing parentheses in call to 'print'. Did you mean print(...)?\n"
     ]
    }
   ],
   "source": [
    "print\"hi\""
   ]
  },
  {
   "cell_type": "code",
   "execution_count": null,
   "id": "48db2425",
   "metadata": {},
   "outputs": [],
   "source": []
  },
  {
   "cell_type": "code",
   "execution_count": 2,
   "id": "e31ace15",
   "metadata": {},
   "outputs": [
    {
     "ename": "SyntaxError",
     "evalue": "invalid syntax (3424848256.py, line 3)",
     "output_type": "error",
     "traceback": [
      "\u001b[1;36m  Cell \u001b[1;32mIn[2], line 3\u001b[1;36m\u001b[0m\n\u001b[1;33m    break=5\u001b[0m\n\u001b[1;37m         ^\u001b[0m\n\u001b[1;31mSyntaxError\u001b[0m\u001b[1;31m:\u001b[0m invalid syntax\n"
     ]
    }
   ],
   "source": [
    "#Create a variable called break and assign it a value 5. See what happens and find out the reason behind the behavior that you see.\n",
    "\n",
    "break=5"
   ]
  },
  {
   "cell_type": "code",
   "execution_count": 3,
   "id": "4d2d45f9",
   "metadata": {},
   "outputs": [],
   "source": [
    "#Create two variables. One to store your birth year and another one to store current year. Now calculate your age using these two variables\n",
    "\n",
    "birth_year=2003\n",
    "current_year=2023\n",
    "age=current_year-birth_year"
   ]
  },
  {
   "cell_type": "code",
   "execution_count": 4,
   "id": "4066a314",
   "metadata": {},
   "outputs": [
    {
     "data": {
      "text/plain": [
       "20"
      ]
     },
     "execution_count": 4,
     "metadata": {},
     "output_type": "execute_result"
    }
   ],
   "source": [
    "age"
   ]
  },
  {
   "cell_type": "code",
   "execution_count": 5,
   "id": "afccfd8b",
   "metadata": {},
   "outputs": [
    {
     "name": "stdout",
     "output_type": "stream",
     "text": [
      "MY Full Name: chaitanya bharat bhise\n"
     ]
    }
   ],
   "source": [
    "#Store your first, middle and last name in three different variables and then print your full name using these variables\n",
    "first_name=\"chaitanya\"\n",
    "middle_name=\"bharat\"\n",
    "last_name=\"bhise\"\n",
    "print(\"MY Full Name: \" + first_name + \" \" + middle_name + \" \" + last_name)"
   ]
  },
  {
   "cell_type": "code",
   "execution_count": 6,
   "id": "2e39347f",
   "metadata": {},
   "outputs": [],
   "source": [
    "_nation=1"
   ]
  },
  {
   "cell_type": "code",
   "execution_count": 7,
   "id": "d94c45f0",
   "metadata": {},
   "outputs": [
    {
     "data": {
      "text/plain": [
       "1"
      ]
     },
     "execution_count": 7,
     "metadata": {},
     "output_type": "execute_result"
    }
   ],
   "source": [
    "_nation"
   ]
  },
  {
   "cell_type": "code",
   "execution_count": 8,
   "id": "36359c88",
   "metadata": {},
   "outputs": [
    {
     "ename": "SyntaxError",
     "evalue": "invalid decimal literal (2328491922.py, line 1)",
     "output_type": "error",
     "traceback": [
      "\u001b[1;36m  Cell \u001b[1;32mIn[8], line 1\u001b[1;36m\u001b[0m\n\u001b[1;33m    1record=2\u001b[0m\n\u001b[1;37m    ^\u001b[0m\n\u001b[1;31mSyntaxError\u001b[0m\u001b[1;31m:\u001b[0m invalid decimal literal\n"
     ]
    }
   ],
   "source": [
    "1record=2"
   ]
  },
  {
   "cell_type": "code",
   "execution_count": 9,
   "id": "0914ef7d",
   "metadata": {},
   "outputs": [],
   "source": [
    "record1=3"
   ]
  },
  {
   "cell_type": "code",
   "execution_count": 10,
   "id": "12f5eb8e",
   "metadata": {},
   "outputs": [
    {
     "data": {
      "text/plain": [
       "3"
      ]
     },
     "execution_count": 10,
     "metadata": {},
     "output_type": "execute_result"
    }
   ],
   "source": [
    "record1"
   ]
  },
  {
   "cell_type": "code",
   "execution_count": 11,
   "id": "cc817906",
   "metadata": {},
   "outputs": [],
   "source": [
    "record_one=4"
   ]
  },
  {
   "cell_type": "code",
   "execution_count": 12,
   "id": "06c75d34",
   "metadata": {},
   "outputs": [
    {
     "data": {
      "text/plain": [
       "4"
      ]
     },
     "execution_count": 12,
     "metadata": {},
     "output_type": "execute_result"
    }
   ],
   "source": [
    "record_one"
   ]
  },
  {
   "cell_type": "code",
   "execution_count": 13,
   "id": "698031a2",
   "metadata": {},
   "outputs": [
    {
     "ename": "SyntaxError",
     "evalue": "cannot assign to expression here. Maybe you meant '==' instead of '='? (480213268.py, line 1)",
     "output_type": "error",
     "traceback": [
      "\u001b[1;36m  Cell \u001b[1;32mIn[13], line 1\u001b[1;36m\u001b[0m\n\u001b[1;33m    record-one=5\u001b[0m\n\u001b[1;37m    ^\u001b[0m\n\u001b[1;31mSyntaxError\u001b[0m\u001b[1;31m:\u001b[0m cannot assign to expression here. Maybe you meant '==' instead of '='?\n"
     ]
    }
   ],
   "source": [
    "record-one=5"
   ]
  },
  {
   "cell_type": "code",
   "execution_count": 14,
   "id": "d36d296f",
   "metadata": {},
   "outputs": [
    {
     "ename": "SyntaxError",
     "evalue": "cannot assign to expression here. Maybe you meant '==' instead of '='? (3166635980.py, line 1)",
     "output_type": "error",
     "traceback": [
      "\u001b[1;36m  Cell \u001b[1;32mIn[14], line 1\u001b[1;36m\u001b[0m\n\u001b[1;33m    record^one=6\u001b[0m\n\u001b[1;37m    ^\u001b[0m\n\u001b[1;31mSyntaxError\u001b[0m\u001b[1;31m:\u001b[0m cannot assign to expression here. Maybe you meant '==' instead of '='?\n"
     ]
    }
   ],
   "source": [
    "record^one=6"
   ]
  },
  {
   "cell_type": "code",
   "execution_count": 15,
   "id": "6e41c305",
   "metadata": {},
   "outputs": [
    {
     "ename": "SyntaxError",
     "evalue": "invalid syntax (3191895663.py, line 1)",
     "output_type": "error",
     "traceback": [
      "\u001b[1;36m  Cell \u001b[1;32mIn[15], line 1\u001b[1;36m\u001b[0m\n\u001b[1;33m    continue=7\u001b[0m\n\u001b[1;37m            ^\u001b[0m\n\u001b[1;31mSyntaxError\u001b[0m\u001b[1;31m:\u001b[0m invalid syntax\n"
     ]
    }
   ],
   "source": [
    "continue=7"
   ]
  },
  {
   "cell_type": "code",
   "execution_count": 16,
   "id": "cdb97709",
   "metadata": {},
   "outputs": [
    {
     "ename": "SyntaxError",
     "evalue": "Missing parentheses in call to 'print'. Did you mean print(...)? (1005908724.py, line 1)",
     "output_type": "error",
     "traceback": [
      "\u001b[1;36m  Cell \u001b[1;32mIn[16], line 1\u001b[1;36m\u001b[0m\n\u001b[1;33m    print\"Thank You\"\u001b[0m\n\u001b[1;37m    ^\u001b[0m\n\u001b[1;31mSyntaxError\u001b[0m\u001b[1;31m:\u001b[0m Missing parentheses in call to 'print'. Did you mean print(...)?\n"
     ]
    }
   ],
   "source": [
    "print\"Thank You\""
   ]
  },
  {
   "cell_type": "code",
   "execution_count": 17,
   "id": "737aacb7",
   "metadata": {},
   "outputs": [],
   "source": [
    "Thank_You = \"Welcome\""
   ]
  },
  {
   "cell_type": "code",
   "execution_count": 18,
   "id": "417d79a9",
   "metadata": {},
   "outputs": [
    {
     "data": {
      "text/plain": [
       "'Welcome'"
      ]
     },
     "execution_count": 18,
     "metadata": {},
     "output_type": "execute_result"
    }
   ],
   "source": [
    "Thank_You"
   ]
  },
  {
   "cell_type": "code",
   "execution_count": 19,
   "id": "162d460c",
   "metadata": {},
   "outputs": [],
   "source": [
    "Subscribe=\"like\""
   ]
  },
  {
   "cell_type": "code",
   "execution_count": 20,
   "id": "4d344293",
   "metadata": {},
   "outputs": [
    {
     "ename": "NameError",
     "evalue": "name 'subscribe' is not defined",
     "output_type": "error",
     "traceback": [
      "\u001b[1;31m---------------------------------------------------------------------------\u001b[0m",
      "\u001b[1;31mNameError\u001b[0m                                 Traceback (most recent call last)",
      "Cell \u001b[1;32mIn[20], line 1\u001b[0m\n\u001b[1;32m----> 1\u001b[0m subscribe\n",
      "\u001b[1;31mNameError\u001b[0m: name 'subscribe' is not defined"
     ]
    }
   ],
   "source": [
    "subscribe"
   ]
  },
  {
   "cell_type": "code",
   "execution_count": 21,
   "id": "ce6eda93",
   "metadata": {},
   "outputs": [
    {
     "data": {
      "text/plain": [
       "'like'"
      ]
     },
     "execution_count": 21,
     "metadata": {},
     "output_type": "execute_result"
    }
   ],
   "source": [
    "Subscribe"
   ]
  },
  {
   "cell_type": "code",
   "execution_count": null,
   "id": "06ff7a5e",
   "metadata": {},
   "outputs": [],
   "source": []
  }
 ],
 "metadata": {
  "kernelspec": {
   "display_name": "Python 3 (ipykernel)",
   "language": "python",
   "name": "python3"
  },
  "language_info": {
   "codemirror_mode": {
    "name": "ipython",
    "version": 3
   },
   "file_extension": ".py",
   "mimetype": "text/x-python",
   "name": "python",
   "nbconvert_exporter": "python",
   "pygments_lexer": "ipython3",
   "version": "3.11.5"
  }
 },
 "nbformat": 4,
 "nbformat_minor": 5
}
