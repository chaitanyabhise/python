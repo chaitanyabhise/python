{
 "cells": [
  {
   "cell_type": "code",
   "execution_count": 1,
   "id": "0eb9525d",
   "metadata": {},
   "outputs": [],
   "source": [
    "base=10.2"
   ]
  },
  {
   "cell_type": "code",
   "execution_count": 4,
   "id": "e1e0e490",
   "metadata": {},
   "outputs": [],
   "source": [
    "height=20.5"
   ]
  },
  {
   "cell_type": "code",
   "execution_count": 5,
   "id": "cb1eae55",
   "metadata": {},
   "outputs": [
    {
     "data": {
      "text/plain": [
       "10.2"
      ]
     },
     "execution_count": 5,
     "metadata": {},
     "output_type": "execute_result"
    }
   ],
   "source": [
    "base"
   ]
  },
  {
   "cell_type": "code",
   "execution_count": 6,
   "id": "c0711ff6",
   "metadata": {},
   "outputs": [],
   "source": [
    "area=(1/2)*base*height"
   ]
  },
  {
   "cell_type": "code",
   "execution_count": 7,
   "id": "ef586392",
   "metadata": {},
   "outputs": [
    {
     "data": {
      "text/plain": [
       "104.55"
      ]
     },
     "execution_count": 7,
     "metadata": {},
     "output_type": "execute_result"
    }
   ],
   "source": [
    "area"
   ]
  },
  {
   "cell_type": "code",
   "execution_count": 8,
   "id": "057fc81e",
   "metadata": {},
   "outputs": [],
   "source": [
    "foo=1.2466777777\n",
    "#Decimal Value"
   ]
  },
  {
   "cell_type": "code",
   "execution_count": 9,
   "id": "464811db",
   "metadata": {},
   "outputs": [
    {
     "data": {
      "text/plain": [
       "1.2466777777"
      ]
     },
     "execution_count": 9,
     "metadata": {},
     "output_type": "execute_result"
    }
   ],
   "source": [
    "foo"
   ]
  },
  {
   "cell_type": "code",
   "execution_count": 10,
   "id": "76239e8d",
   "metadata": {},
   "outputs": [
    {
     "data": {
      "text/plain": [
       "1.25"
      ]
     },
     "execution_count": 10,
     "metadata": {},
     "output_type": "execute_result"
    }
   ],
   "source": [
    "round(foo,2)\n",
    "#Surten Point Tak Print Hoga"
   ]
  },
  {
   "cell_type": "code",
   "execution_count": 11,
   "id": "d3756aa5",
   "metadata": {},
   "outputs": [
    {
     "data": {
      "text/plain": [
       "3"
      ]
     },
     "execution_count": 11,
     "metadata": {},
     "output_type": "execute_result"
    }
   ],
   "source": [
    "1+2\n",
    "#Addition"
   ]
  },
  {
   "cell_type": "code",
   "execution_count": 12,
   "id": "225e60b9",
   "metadata": {},
   "outputs": [
    {
     "data": {
      "text/plain": [
       "0.5"
      ]
     },
     "execution_count": 12,
     "metadata": {},
     "output_type": "execute_result"
    }
   ],
   "source": [
    "1/2\n",
    "#Divide Find"
   ]
  },
  {
   "cell_type": "code",
   "execution_count": 13,
   "id": "fa177c7c",
   "metadata": {},
   "outputs": [
    {
     "data": {
      "text/plain": [
       "2"
      ]
     },
     "execution_count": 13,
     "metadata": {},
     "output_type": "execute_result"
    }
   ],
   "source": [
    "17%3\n",
    "#Remender Find"
   ]
  },
  {
   "cell_type": "code",
   "execution_count": 14,
   "id": "14a3bab1",
   "metadata": {},
   "outputs": [
    {
     "data": {
      "text/plain": [
       "9"
      ]
     },
     "execution_count": 14,
     "metadata": {},
     "output_type": "execute_result"
    }
   ],
   "source": [
    "3**2\n",
    "#Power Operater{3 Power 2}"
   ]
  },
  {
   "cell_type": "code",
   "execution_count": 15,
   "id": "81ff7be4",
   "metadata": {},
   "outputs": [
    {
     "data": {
      "text/plain": [
       "16"
      ]
     },
     "execution_count": 15,
     "metadata": {},
     "output_type": "execute_result"
    }
   ],
   "source": [
    "10+2*3\n",
    "#Order Se Hoga Jo Deafault Hai Use"
   ]
  },
  {
   "cell_type": "code",
   "execution_count": 16,
   "id": "0288ae4f",
   "metadata": {},
   "outputs": [
    {
     "data": {
      "text/plain": [
       "36"
      ]
     },
     "execution_count": 16,
     "metadata": {},
     "output_type": "execute_result"
    }
   ],
   "source": [
    "(10+2)*3\n",
    "#Ise Pahle Bracket Vla Run Hoga"
   ]
  },
  {
   "cell_type": "code",
   "execution_count": 17,
   "id": "960c87b7",
   "metadata": {},
   "outputs": [
    {
     "data": {
      "text/plain": [
       "int"
      ]
     },
     "execution_count": 17,
     "metadata": {},
     "output_type": "execute_result"
    }
   ],
   "source": [
    "type(5)\n",
    "#Interger(Whole Number)"
   ]
  },
  {
   "cell_type": "code",
   "execution_count": 18,
   "id": "aa99acc1",
   "metadata": {},
   "outputs": [
    {
     "data": {
      "text/plain": [
       "float"
      ]
     },
     "execution_count": 18,
     "metadata": {},
     "output_type": "execute_result"
    }
   ],
   "source": [
    "type(area)\n",
    "#Decimal=Float"
   ]
  },
  {
   "cell_type": "code",
   "execution_count": 19,
   "id": "7b0d0820",
   "metadata": {},
   "outputs": [
    {
     "data": {
      "text/plain": [
       "float"
      ]
     },
     "execution_count": 19,
     "metadata": {},
     "output_type": "execute_result"
    }
   ],
   "source": [
    "type(2.3)"
   ]
  },
  {
   "cell_type": "code",
   "execution_count": 20,
   "id": "6a13f17b",
   "metadata": {},
   "outputs": [],
   "source": [
    "foo=2.3e-3\n",
    "#Prepresent Expontion Notation Jo School Mai Padha Hai Vo"
   ]
  },
  {
   "cell_type": "code",
   "execution_count": 21,
   "id": "1bc03f4c",
   "metadata": {},
   "outputs": [
    {
     "data": {
      "text/plain": [
       "0.0023"
      ]
     },
     "execution_count": 21,
     "metadata": {},
     "output_type": "execute_result"
    }
   ],
   "source": [
    "foo"
   ]
  },
  {
   "cell_type": "code",
   "execution_count": 22,
   "id": "c8e5b270",
   "metadata": {},
   "outputs": [
    {
     "data": {
      "text/plain": [
       "0"
      ]
     },
     "execution_count": 22,
     "metadata": {},
     "output_type": "execute_result"
    }
   ],
   "source": [
    "0*12"
   ]
  },
  {
   "cell_type": "code",
   "execution_count": 23,
   "id": "b6ec9806",
   "metadata": {},
   "outputs": [
    {
     "data": {
      "text/plain": [
       "0"
      ]
     },
     "execution_count": 23,
     "metadata": {},
     "output_type": "execute_result"
    }
   ],
   "source": [
    "0*22"
   ]
  },
  {
   "cell_type": "code",
   "execution_count": 24,
   "id": "cf82d9a7",
   "metadata": {},
   "outputs": [
    {
     "data": {
      "text/plain": [
       "18"
      ]
     },
     "execution_count": 24,
     "metadata": {},
     "output_type": "execute_result"
    }
   ],
   "source": [
    "0x12\n",
    "#Hexadecimal Number (16*1+2=18)"
   ]
  },
  {
   "cell_type": "code",
   "execution_count": 25,
   "id": "8920a957",
   "metadata": {},
   "outputs": [
    {
     "data": {
      "text/plain": [
       "34"
      ]
     },
     "execution_count": 25,
     "metadata": {},
     "output_type": "execute_result"
    }
   ],
   "source": [
    "0x22\n",
    "#Hexadecimal Number (16*2+2=34)"
   ]
  },
  {
   "cell_type": "code",
   "execution_count": 26,
   "id": "43bdcf80",
   "metadata": {},
   "outputs": [],
   "source": [
    "c1=2+3j\n",
    "#Complex Type (Ek Real (2) Or Image Part (3j))"
   ]
  },
  {
   "cell_type": "code",
   "execution_count": 27,
   "id": "d85549d0",
   "metadata": {},
   "outputs": [
    {
     "data": {
      "text/plain": [
       "complex"
      ]
     },
     "execution_count": 27,
     "metadata": {},
     "output_type": "execute_result"
    }
   ],
   "source": [
    "type(c1)"
   ]
  },
  {
   "cell_type": "code",
   "execution_count": 28,
   "id": "8d919604",
   "metadata": {},
   "outputs": [
    {
     "data": {
      "text/plain": [
       "(5-1j)"
      ]
     },
     "execution_count": 28,
     "metadata": {},
     "output_type": "execute_result"
    }
   ],
   "source": [
    "c2=3-4j\n",
    "c1+c2\n",
    "#Aretmatic Kar Sakte Hai Complex Ke Bich Mai"
   ]
  },
  {
   "cell_type": "code",
   "execution_count": 29,
   "id": "712ad087",
   "metadata": {},
   "outputs": [
    {
     "data": {
      "text/plain": [
       "5"
      ]
     },
     "execution_count": 29,
     "metadata": {},
     "output_type": "execute_result"
    }
   ],
   "source": [
    "5"
   ]
  },
  {
   "cell_type": "code",
   "execution_count": 30,
   "id": "2f9711a5",
   "metadata": {},
   "outputs": [
    {
     "data": {
      "text/plain": [
       "'101'"
      ]
     },
     "execution_count": 30,
     "metadata": {},
     "output_type": "execute_result"
    }
   ],
   "source": [
    "format(5,'b')\n",
    "#Represent Kase Hota Hai Number Ko\n",
    "#B Ka Matlab Binary \n",
    "#Ex:- '1'*2^2+'0'*2^1+'1'*2^0=5\n",
    "#Hard Disk Mai Ase He Store Hoga 5 Ka 101"
   ]
  },
  {
   "cell_type": "code",
   "execution_count": 31,
   "id": "6b2c0e29",
   "metadata": {},
   "outputs": [
    {
     "data": {
      "text/plain": [
       "0.2999999999999998"
      ]
     },
     "execution_count": 31,
     "metadata": {},
     "output_type": "execute_result"
    }
   ],
   "source": [
    "6-5.7\n",
    "#Floting Point Ko Acurate Represent Nhi Kar Sakte Hai"
   ]
  },
  {
   "cell_type": "code",
   "execution_count": 32,
   "id": "3922e860",
   "metadata": {},
   "outputs": [
    {
     "data": {
      "text/plain": [
       "0.3"
      ]
     },
     "execution_count": 32,
     "metadata": {},
     "output_type": "execute_result"
    }
   ],
   "source": [
    "round(6-5.7,2)\n",
    "#Acurate Value Chiye Tho Round Function Use Karna"
   ]
  },
  {
   "cell_type": "markdown",
   "id": "25ca9813",
   "metadata": {},
   "source": [
    "# Exercise"
   ]
  },
  {
   "cell_type": "markdown",
   "id": "91a8a5df",
   "metadata": {},
   "source": [
    "# Q1)You have a football field that is 92 meter long and 48.8 meter wide. Find out total area using python and print it.\n"
   ]
  },
  {
   "cell_type": "code",
   "execution_count": 36,
   "id": "f21a08ab",
   "metadata": {},
   "outputs": [],
   "source": [
    "football_field_long=92"
   ]
  },
  {
   "cell_type": "code",
   "execution_count": 37,
   "id": "f5205ab7",
   "metadata": {},
   "outputs": [],
   "source": [
    "football_field_wide=48.8"
   ]
  },
  {
   "cell_type": "code",
   "execution_count": 41,
   "id": "c2e8265d",
   "metadata": {},
   "outputs": [],
   "source": [
    "area=football_field_long*football_field_wide\n",
    "#area=base*height"
   ]
  },
  {
   "cell_type": "code",
   "execution_count": 42,
   "id": "835a20e1",
   "metadata": {},
   "outputs": [
    {
     "data": {
      "text/plain": [
       "4489.599999999999"
      ]
     },
     "execution_count": 42,
     "metadata": {},
     "output_type": "execute_result"
    }
   ],
   "source": [
    "area"
   ]
  },
  {
   "cell_type": "markdown",
   "id": "978e5f4e",
   "metadata": {},
   "source": [
    "# Q2)You bought 9 packets of potato chips from a store. Each packet costs 1.49 dollar and you gave shopkeeper 20 dollar. Find out using python, how many dollars is the shopkeeper going to give you back?\n"
   ]
  },
  {
   "cell_type": "code",
   "execution_count": 44,
   "id": "ced8c7d6",
   "metadata": {},
   "outputs": [],
   "source": [
    "patato_chips_perchese=9"
   ]
  },
  {
   "cell_type": "code",
   "execution_count": 45,
   "id": "bcab8a39",
   "metadata": {},
   "outputs": [],
   "source": [
    "patato_chips_price=1.49"
   ]
  },
  {
   "cell_type": "code",
   "execution_count": 46,
   "id": "f8765032",
   "metadata": {},
   "outputs": [],
   "source": [
    "Pocket_Money=20"
   ]
  },
  {
   "cell_type": "code",
   "execution_count": 52,
   "id": "9bd84e30",
   "metadata": {},
   "outputs": [],
   "source": [
    "total=patato_chips_perchese*patato_chips_price"
   ]
  },
  {
   "cell_type": "code",
   "execution_count": 53,
   "id": "ed139912",
   "metadata": {},
   "outputs": [
    {
     "data": {
      "text/plain": [
       "13.41"
      ]
     },
     "execution_count": 53,
     "metadata": {},
     "output_type": "execute_result"
    }
   ],
   "source": [
    "total"
   ]
  },
  {
   "cell_type": "code",
   "execution_count": 54,
   "id": "13a0baf5",
   "metadata": {},
   "outputs": [],
   "source": [
    "shopkeeper_back_money=Pocket_Money-total"
   ]
  },
  {
   "cell_type": "code",
   "execution_count": 55,
   "id": "dc48f661",
   "metadata": {},
   "outputs": [
    {
     "data": {
      "text/plain": [
       "6.59"
      ]
     },
     "execution_count": 55,
     "metadata": {},
     "output_type": "execute_result"
    }
   ],
   "source": [
    "shopkeeper_back_money"
   ]
  },
  {
   "cell_type": "markdown",
   "id": "2e36d45f",
   "metadata": {},
   "source": [
    "# Q3)You want to replace tiles in your bathroom which is exactly square and 5.5 feet is its length. If tiles cost 500 rs per square feet, how much will be the total cost to replace all tiles. Calculate and print the cost using python (Hint: Use power operator ** to find area of a square)\n"
   ]
  },
  {
   "cell_type": "code",
   "execution_count": 58,
   "id": "6186449d",
   "metadata": {},
   "outputs": [],
   "source": [
    "length=5.5"
   ]
  },
  {
   "cell_type": "code",
   "execution_count": 59,
   "id": "ed65b60e",
   "metadata": {},
   "outputs": [],
   "source": [
    "area=length**2 # area of square is length power 2"
   ]
  },
  {
   "cell_type": "code",
   "execution_count": 60,
   "id": "18d8c0c5",
   "metadata": {},
   "outputs": [],
   "source": [
    "cost=area*500"
   ]
  },
  {
   "cell_type": "code",
   "execution_count": 61,
   "id": "7cc64afb",
   "metadata": {},
   "outputs": [
    {
     "name": "stdout",
     "output_type": "stream",
     "text": [
      "total cost for bathroom tiles replacement: 15125.0\n"
     ]
    }
   ],
   "source": [
    "print(\"total cost for bathroom tiles replacement:\",cost) # Ans: 15125.0\n"
   ]
  },
  {
   "cell_type": "markdown",
   "id": "dc486d23",
   "metadata": {},
   "source": [
    "# Q4)Print binary representation of number 17\n"
   ]
  },
  {
   "cell_type": "code",
   "execution_count": 63,
   "id": "4a53cd78",
   "metadata": {},
   "outputs": [
    {
     "data": {
      "text/plain": [
       "'10001'"
      ]
     },
     "execution_count": 63,
     "metadata": {},
     "output_type": "execute_result"
    }
   ],
   "source": [
    "format(17,'b')\n",
    "#Represent Kase Hota Hai Number Ko\n",
    "#B Ka Matlab Binary \n",
    "#Ex:- '1'*2^2+'0'*2^1+'1'*2^0=5\n",
    "#Hard Disk Mai Ase He Store Hoga 17 Ka 10001\n"
   ]
  },
  {
   "cell_type": "code",
   "execution_count": 64,
   "id": "8d62dea3",
   "metadata": {},
   "outputs": [],
   "source": [
    "#Thank You\n",
    "#Chaitanya :)"
   ]
  },
  {
   "cell_type": "code",
   "execution_count": null,
   "id": "a6d09394",
   "metadata": {},
   "outputs": [],
   "source": []
  }
 ],
 "metadata": {
  "kernelspec": {
   "display_name": "Python 3 (ipykernel)",
   "language": "python",
   "name": "python3"
  },
  "language_info": {
   "codemirror_mode": {
    "name": "ipython",
    "version": 3
   },
   "file_extension": ".py",
   "mimetype": "text/x-python",
   "name": "python",
   "nbconvert_exporter": "python",
   "pygments_lexer": "ipython3",
   "version": "3.11.5"
  }
 },
 "nbformat": 4,
 "nbformat_minor": 5
}
